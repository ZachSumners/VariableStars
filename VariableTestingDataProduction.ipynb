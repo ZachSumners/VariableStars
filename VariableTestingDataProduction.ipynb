{
 "cells": [
  {
   "cell_type": "code",
   "execution_count": 2,
   "id": "66ff89c4",
   "metadata": {},
   "outputs": [],
   "source": [
    "import numpy as np\n",
    "import pandas as pd"
   ]
  },
  {
   "cell_type": "code",
   "execution_count": 31,
   "id": "6ee79e6b",
   "metadata": {},
   "outputs": [],
   "source": [
    "testStars = 10\n",
    "numImages = 61\n",
    "\n",
    "variables = [4]\n",
    "x = [1509.2386,1558.8592,1424.9858,1566.8004,1483.4237,1647.8453,1444.5004,1472.0502,1630.0838,1613.6662,1465.3347,1644.7094,1417.106,1539.1444,1528.4797,1425.0953,1489.5353,1617.4955,1549.4707,1600.3275,1435.4664,1521.9599]\n",
    "y = [1506.7726,1546.3549,1568.5439,1569.6106,1577.9809,1592.4593,1601.2531,1603.9061,1620.8993,1632.3872,1632.6945,1646.5479,1650.9379,1649.6482,1711.7199,1713.7909,1723.1501,1726.913,1734.5845,1746.8349,1749.8878,1751.6622]\n",
    "\n",
    "photometryTable = pd.DataFrame()\n",
    "\n",
    "for i in range(1, 1+testStars):\n",
    "    number = np.arange(i, numImages*testStars+1, testStars)\n",
    "    objectNum = np.full(numImages, i)\n",
    "    name = np.full(numImages, f'K01-{i}')\n",
    "    xpos = np.full(numImages, x[i-1])\n",
    "    ypos = np.full(numImages, y[i-1])\n",
    "    \n",
    "    if i in variables:\n",
    "        mag = np.linspace(-2.2, -1.5, numImages) + np.random.normal(0, 0.05, numImages)\n",
    "    else:\n",
    "        mag = np.full(numImages, -1)\n",
    "        \n",
    "    error = np.full(numImages, 0.01)\n",
    "    \n",
    "    starPhotTable = pd.DataFrame({'#': number, 'Object': objectNum, 'Name': name, 'X': xpos, 'Y': ypos, 'Mag': mag, 'Error(T)': error})\n",
    "    \n",
    "    photometryTable = pd.concat([photometryTable, starPhotTable])\n",
    "    \n",
    "photometryTable = photometryTable.sort_values(by=['#'])\n",
    "photometryTable.to_csv('KeplerTestData.csv', index=False)"
   ]
  },
  {
   "cell_type": "code",
   "execution_count": null,
   "id": "622fe50c",
   "metadata": {},
   "outputs": [],
   "source": []
  }
 ],
 "metadata": {
  "kernelspec": {
   "display_name": "Python 3 (ipykernel)",
   "language": "python",
   "name": "python3"
  },
  "language_info": {
   "codemirror_mode": {
    "name": "ipython",
    "version": 3
   },
   "file_extension": ".py",
   "mimetype": "text/x-python",
   "name": "python",
   "nbconvert_exporter": "python",
   "pygments_lexer": "ipython3",
   "version": "3.9.13"
  }
 },
 "nbformat": 4,
 "nbformat_minor": 5
}
