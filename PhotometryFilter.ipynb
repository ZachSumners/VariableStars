{
 "cells": [
  {
   "cell_type": "code",
   "execution_count": 5,
   "id": "529cf63e",
   "metadata": {
    "scrolled": true
   },
   "outputs": [
    {
     "name": "stdout",
     "output_type": "stream",
     "text": [
      "PROGRESS: 100.0%\n"
     ]
    }
   ],
   "source": [
    "import numpy as np\n",
    "import pandas as pd\n",
    "import math\n",
    "from astropy.io import fits\n",
    "from IPython.display import clear_output\n",
    "\n",
    "annulus = 11\n",
    "apeture = 4\n",
    "\n",
    "numStars = 7057\n",
    "data, header = fits.getdata('C:/Users/ronald.sumners/Desktop/KeplerSept17/Registered/6785753_32924944_f_reg.fits', header = True)\n",
    "\n",
    "starData = pd.read_csv('./KeplerSept17/K01Extract_Sept17.csv')\n",
    "starData.columns = starData.columns.str.replace(' ', '')\n",
    "starData = starData.set_index('#')\n",
    "\n",
    "x = []\n",
    "y = []\n",
    "starName = starData['Name'][:numStars]\n",
    " \n",
    "for i in range(numStars):\n",
    "    name1 = starName.iloc[i]\n",
    "    x.append(starData['X'][starData['Name'] == name1].reset_index(drop=True)[0])\n",
    "    y.append(starData['Y'][starData['Name'] == name1].reset_index(drop=True)[0])\n",
    "    clear_output(wait=True)\n",
    "    print(f'PROGRESS: {(i/numStars)*100:.1f}%')\n"
   ]
  },
  {
   "cell_type": "code",
   "execution_count": 6,
   "id": "4726a0ad",
   "metadata": {},
   "outputs": [
    {
     "name": "stdout",
     "output_type": "stream",
     "text": [
      "4362\n"
     ]
    }
   ],
   "source": [
    "totalcheck = 0\n",
    "exclude = []\n",
    "for i in range(numStars):\n",
    "    centery = int(x[i])\n",
    "    centerx = int(y[i])\n",
    "    segement = np.array(data[centerx-annulus:centerx+annulus+1, centery-annulus:centery+annulus+1])\n",
    "\n",
    "    mask = np.ones((2*annulus+1, 2*annulus+1), dtype = bool)\n",
    "    mask[(int(annulus) - apeture):(int(annulus) + 1 + apeture), (int(annulus) - apeture):(int(annulus) + 1 + apeture)] = False\n",
    "\n",
    "    annulus_data = segement[mask]\n",
    "\n",
    "    check = ((annulus_data < 20000).sum() == annulus_data.size).astype(int)\n",
    "    totalcheck += check\n",
    "    \n",
    "    if check == 0:\n",
    "        name = starName.iloc[i]\n",
    "        exclude.append(name)\n",
    "print(totalcheck)\n",
    "\n",
    "exclusions = pd.DataFrame(data = {'Names': exclude})\n",
    "exclusions.to_csv('FilteringExclusions.csv', index=False)"
   ]
  },
  {
   "cell_type": "code",
   "execution_count": 7,
   "id": "4ca4dd47",
   "metadata": {},
   "outputs": [
    {
     "name": "stdout",
     "output_type": "stream",
     "text": [
      "1\n"
     ]
    }
   ],
   "source": [
    "centerx = 3471\n",
    "centery = 2140\n",
    "segement = np.array(data[centerx-annulus:centerx+annulus+1, centery-annulus:centery+annulus+1])\n",
    "\n",
    "mask = np.ones((2*annulus+1, 2*annulus+1), dtype = bool)\n",
    "mask[(int(annulus) - apeture):(int(annulus) + 1 + apeture), (int(annulus) - apeture):(int(annulus) + 1 + apeture)] = False\n",
    "\n",
    "annulus_data = segement[mask]\n",
    "\n",
    "check = ((annulus_data < 20000).sum() == annulus_data.size).astype(int)\n",
    "totalcheck += check\n",
    "print(check)"
   ]
  },
  {
   "cell_type": "code",
   "execution_count": 8,
   "id": "3cbbc3dd",
   "metadata": {},
   "outputs": [
    {
     "name": "stdout",
     "output_type": "stream",
     "text": [
      "['K01-3' 'K01-5' 'K01-6' ... 'K01-9616' 'K01-9619' 'K01-9625']\n",
      "2695\n",
      "(246995, 43)\n",
      "(152670, 43)\n",
      "Complete.\n"
     ]
    }
   ],
   "source": [
    "exclusions = pd.read_csv('FilteringExclusions.csv')['Names'].to_numpy()\n",
    "print(exclusions)\n",
    "print(len(exclusions))\n",
    "\n",
    "starData = pd.read_csv('./KeplerSept17/K01Extract_Sept17.csv')\n",
    "print(starData.shape)\n",
    "starData = starData[~starData['Name'].isin(exclusions)]\n",
    "print(starData.shape)\n",
    "\n",
    "starData.to_csv('K01ExtractFiltered.csv', index=False)\n",
    "print('Complete.')"
   ]
  },
  {
   "cell_type": "code",
   "execution_count": null,
   "id": "25ae5fae",
   "metadata": {},
   "outputs": [],
   "source": []
  }
 ],
 "metadata": {
  "kernelspec": {
   "display_name": "Python 3 (ipykernel)",
   "language": "python",
   "name": "python3"
  },
  "language_info": {
   "codemirror_mode": {
    "name": "ipython",
    "version": 3
   },
   "file_extension": ".py",
   "mimetype": "text/x-python",
   "name": "python",
   "nbconvert_exporter": "python",
   "pygments_lexer": "ipython3",
   "version": "3.9.13"
  }
 },
 "nbformat": 4,
 "nbformat_minor": 5
}
