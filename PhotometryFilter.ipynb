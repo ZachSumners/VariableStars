{
 "cells": [
  {
   "cell_type": "code",
   "execution_count": 87,
   "id": "529cf63e",
   "metadata": {},
   "outputs": [
    {
     "name": "stderr",
     "output_type": "stream",
     "text": [
      "WARNING: non-ASCII characters are present in the FITS file header and have been replaced by \"?\" characters [astropy.io.fits.util]\n",
      "C:\\Users\\ronald.sumners\\AppData\\Local\\Temp\\ipykernel_6124\\4066342213.py:12: DtypeWarning: Columns (20) have mixed types. Specify dtype option on import or set low_memory=False.\n",
      "  starData = pd.read_csv('./KeplerSept4/K01Extract.csv')\n"
     ]
    },
    {
     "name": "stdout",
     "output_type": "stream",
     "text": [
      "0\n",
      "100\n",
      "200\n",
      "300\n",
      "400\n",
      "500\n",
      "600\n",
      "700\n",
      "800\n",
      "900\n",
      "1000\n",
      "1100\n",
      "1200\n",
      "1300\n",
      "1400\n",
      "1500\n",
      "1600\n",
      "1700\n",
      "1800\n",
      "1900\n",
      "2000\n",
      "2100\n",
      "2200\n",
      "2300\n",
      "2400\n",
      "2500\n",
      "2600\n",
      "2700\n",
      "2800\n",
      "2900\n",
      "3000\n",
      "3100\n",
      "3200\n",
      "3300\n",
      "3400\n",
      "3500\n",
      "3600\n",
      "3700\n"
     ]
    }
   ],
   "source": [
    "import numpy as np\n",
    "import pandas as pd\n",
    "import math\n",
    "from astropy.io import fits\n",
    "\n",
    "annulus = 11\n",
    "apeture = 4\n",
    "\n",
    "numStars = 3769\n",
    "data, header = fits.getdata('C:/Users/ronald.sumners/Desktop/KeplerSept4/6741412_32821711_processed.fits', header = True)\n",
    "\n",
    "starData = pd.read_csv('./KeplerSept4/K01Extract.csv')\n",
    "starData.columns = starData.columns.str.replace(' ', '')\n",
    "starData = starData.set_index('#')\n",
    "\n",
    "x = []\n",
    "y = []\n",
    "starName = starData['Name'][:numStars]\n",
    " \n",
    "for i in range(numStars):\n",
    "    name1 = starName.iloc[i]\n",
    "    x.append(starData['X'][starData['Name'] == name1].reset_index(drop=True)[0])\n",
    "    y.append(starData['Y'][starData['Name'] == name1].reset_index(drop=True)[0])\n",
    "    if i%100 == 0:\n",
    "        print(i)\n"
   ]
  },
  {
   "cell_type": "code",
   "execution_count": 89,
   "id": "4726a0ad",
   "metadata": {},
   "outputs": [
    {
     "name": "stdout",
     "output_type": "stream",
     "text": [
      "2895\n"
     ]
    }
   ],
   "source": [
    "totalcheck = 0\n",
    "exclude = []\n",
    "for i in range(numStars):\n",
    "    centery = int(x[i])\n",
    "    centerx = int(y[i])\n",
    "    segement = np.array(data[centerx-annulus:centerx+annulus+1, centery-annulus:centery+annulus+1])\n",
    "\n",
    "    mask = np.ones((2*annulus+1, 2*annulus+1), dtype = bool)\n",
    "    mask[(int(annulus) - apeture):(int(annulus) + 1 + apeture), (int(annulus) - apeture):(int(annulus) + 1 + apeture)] = False\n",
    "\n",
    "    annulus_data = segement[mask]\n",
    "\n",
    "    check = ((annulus_data < 20000).sum() == annulus_data.size).astype(int)\n",
    "    totalcheck += check\n",
    "    \n",
    "    if check == 0:\n",
    "        name = starName.iloc[i]\n",
    "        exclude.append(name)\n",
    "print(totalcheck)\n",
    "\n",
    "exclusions = pd.DataFrame(data = {'Names': exclude})\n",
    "exclusions.to_csv('FilteringExclusions.csv', index=False)"
   ]
  },
  {
   "cell_type": "code",
   "execution_count": 90,
   "id": "4ca4dd47",
   "metadata": {},
   "outputs": [
    {
     "name": "stdout",
     "output_type": "stream",
     "text": [
      "0\n"
     ]
    }
   ],
   "source": [
    "centerx = 3471\n",
    "centery = 2140\n",
    "segement = np.array(data[centerx-annulus:centerx+annulus+1, centery-annulus:centery+annulus+1])\n",
    "\n",
    "mask = np.ones((2*annulus+1, 2*annulus+1), dtype = bool)\n",
    "mask[(int(annulus) - apeture):(int(annulus) + 1 + apeture), (int(annulus) - apeture):(int(annulus) + 1 + apeture)] = False\n",
    "\n",
    "annulus_data = segement[mask]\n",
    "\n",
    "check = ((annulus_data < 20000).sum() == annulus_data.size).astype(int)\n",
    "totalcheck += check\n",
    "print(check)"
   ]
  },
  {
   "cell_type": "code",
   "execution_count": 91,
   "id": "df8f998a",
   "metadata": {},
   "outputs": [
    {
     "data": {
      "text/plain": [
       "<matplotlib.image.AxesImage at 0x13054c34730>"
      ]
     },
     "execution_count": 91,
     "metadata": {},
     "output_type": "execute_result"
    },
    {
     "data": {
      "image/png": "[encoded data removed]",
      "text/plain": [
       "<Figure size 640x480 with 1 Axes>"
      ]
     },
     "metadata": {},
     "output_type": "display_data"
    }
   ],
   "source": [
    "import matplotlib.pyplot as plt\n",
    "plt.imshow(segement)\n"
   ]
  },
  {
   "cell_type": "code",
   "execution_count": 93,
   "id": "3cbbc3dd",
   "metadata": {},
   "outputs": [
    {
     "name": "stdout",
     "output_type": "stream",
     "text": [
      "['K01-4' 'K01-9' 'K01-26' 'K01-41' 'K01-85' 'K01-89' 'K01-92' 'K01-95'\n",
      " 'K01-98' 'K01-102' 'K01-107' 'K01-111' 'K01-116' 'K01-122' 'K01-126'\n",
      " 'K01-127' 'K01-137' 'K01-139' 'K01-142' 'K01-155' 'K01-168' 'K01-203'\n",
      " 'K01-217' 'K01-219' 'K01-233' 'K01-260' 'K01-284' 'K01-300' 'K01-313'\n",
      " 'K01-316' 'K01-318' 'K01-319' 'K01-320' 'K01-321' 'K01-326' 'K01-333'\n",
      " 'K01-336' 'K01-337' 'K01-343' 'K01-349' 'K01-352' 'K01-355' 'K01-363'\n",
      " 'K01-365' 'K01-367' 'K01-369' 'K01-371' 'K01-384' 'K01-389' 'K01-406'\n",
      " 'K01-409' 'K01-418' 'K01-432' 'K01-439' 'K01-441' 'K01-438' 'K01-447'\n",
      " 'K01-458' 'K01-463' 'K01-466' 'K01-467' 'K01-469' 'K01-470' 'K01-472'\n",
      " 'K01-477' 'K01-485' 'K01-484' 'K01-487' 'K01-492' 'K01-506' 'K01-503'\n",
      " 'K01-527' 'K01-533' 'K01-538' 'K01-550' 'K01-571' 'K01-570' 'K01-577'\n",
      " 'K01-590' 'K01-594' 'K01-598' 'K01-607' 'K01-614' 'K01-647' 'K01-648'\n",
      " 'K01-650' 'K01-652' 'K01-687' 'K01-701' 'K01-702' 'K01-717' 'K01-723'\n",
      " 'K01-737' 'K01-756' 'K01-764' 'K01-774' 'K01-780' 'K01-789' 'K01-793'\n",
      " 'K01-795' 'K01-798' 'K01-809' 'K01-819' 'K01-821' 'K01-822' 'K01-826'\n",
      " 'K01-841' 'K01-844' 'K01-851' 'K01-853' 'K01-858' 'K01-860' 'K01-868'\n",
      " 'K01-895' 'K01-914' 'K01-917' 'K01-918' 'K01-928' 'K01-940' 'K01-939'\n",
      " 'K01-947' 'K01-955' 'K01-958' 'K01-972' 'K01-976' 'K01-974' 'K01-991'\n",
      " 'K01-994' 'K01-999' 'K01-1005' 'K01-1015' 'K01-1022' 'K01-1029'\n",
      " 'K01-1044' 'K01-1049' 'K01-1051' 'K01-1056' 'K01-1062' 'K01-1065'\n",
      " 'K01-1068' 'K01-1069' 'K01-1092' 'K01-1096' 'K01-1101' 'K01-1104'\n",
      " 'K01-1118' 'K01-1131' 'K01-1132' 'K01-1136' 'K01-1152' 'K01-1154'\n",
      " 'K01-1158' 'K01-1169' 'K01-1170' 'K01-1176' 'K01-1191' 'K01-1196'\n",
      " 'K01-1201' 'K01-1203' 'K01-1228' 'K01-1241' 'K01-1243' 'K01-1256'\n",
      " 'K01-1273' 'K01-1283' 'K01-1284' 'K01-1292' 'K01-1301' 'K01-1304'\n",
      " 'K01-1317' 'K01-1321' 'K01-1330' 'K01-1334' 'K01-1339' 'K01-1385'\n",
      " 'K01-1392' 'K01-1404' 'K01-1401' 'K01-1408' 'K01-1409' 'K01-1412'\n",
      " 'K01-1417' 'K01-1419' 'K01-1425' 'K01-1431' 'K01-1436' 'K01-1443'\n",
      " 'K01-1475' 'K01-1485' 'K01-1493' 'K01-1506' 'K01-1513' 'K01-1512'\n",
      " 'K01-1525' 'K01-1533' 'K01-1536' 'K01-1558' 'K01-1571' 'K01-1573'\n",
      " 'K01-1581' 'K01-1599' 'K01-1601' 'K01-1605' 'K01-1617' 'K01-1630'\n",
      " 'K01-1631' 'K01-1633' 'K01-1644' 'K01-1652' 'K01-1653' 'K01-1654'\n",
      " 'K01-1655' 'K01-1664' 'K01-1666' 'K01-1667' 'K01-1672' 'K01-1689'\n",
      " 'K01-1694' 'K01-1707' 'K01-1709' 'K01-1711' 'K01-1713' 'K01-1724'\n",
      " 'K01-1735' 'K01-1744' 'K01-1799' 'K01-1807' 'K01-1815' 'K01-1830'\n",
      " 'K01-1831' 'K01-1834' 'K01-1846' 'K01-1860' 'K01-1869' 'K01-1885'\n",
      " 'K01-1888' 'K01-1895' 'K01-1899' 'K01-1905' 'K01-1906' 'K01-1915'\n",
      " 'K01-1914' 'K01-1916' 'K01-1918' 'K01-1923' 'K01-1929' 'K01-1932'\n",
      " 'K01-1937' 'K01-1940' 'K01-1944' 'K01-1947' 'K01-1949' 'K01-1950'\n",
      " 'K01-1951' 'K01-1954' 'K01-1958' 'K01-1959' 'K01-1970' 'K01-1974'\n",
      " 'K01-1976' 'K01-1984' 'K01-1995' 'K01-1998' 'K01-1999' 'K01-2001'\n",
      " 'K01-2003' 'K01-2006' 'K01-2014' 'K01-2047' 'K01-2056' 'K01-2066'\n",
      " 'K01-2070' 'K01-2074' 'K01-2075' 'K01-2084' 'K01-2088' 'K01-2099'\n",
      " 'K01-2100' 'K01-2109' 'K01-2110' 'K01-2120' 'K01-2121' 'K01-2132'\n",
      " 'K01-2129' 'K01-2141' 'K01-2151' 'K01-2184' 'K01-2193' 'K01-2208'\n",
      " 'K01-2213' 'K01-2214' 'K01-2252' 'K01-2248' 'K01-2259' 'K01-2268'\n",
      " 'K01-2269' 'K01-2272' 'K01-2273' 'K01-2285' 'K01-2287' 'K01-2288'\n",
      " 'K01-2298' 'K01-2300' 'K01-2302' 'K01-2315' 'K01-2321' 'K01-2327'\n",
      " 'K01-2330' 'K01-2332' 'K01-2334' 'K01-2339' 'K01-2351' 'K01-2362'\n",
      " 'K01-2375' 'K01-2378' 'K01-2439' 'K01-2446' 'K01-2462' 'K01-2466'\n",
      " 'K01-2468' 'K01-2484' 'K01-2485' 'K01-2487' 'K01-2499' 'K01-2529'\n",
      " 'K01-2530' 'K01-2533' 'K01-2537' 'K01-2541' 'K01-2555' 'K01-2557'\n",
      " 'K01-2563' 'K01-2569' 'K01-2575' 'K01-2578' 'K01-2579' 'K01-2580'\n",
      " 'K01-2590' 'K01-2599' 'K01-2607' 'K01-2616' 'K01-2623' 'K01-2635'\n",
      " 'K01-2653' 'K01-2659' 'K01-2660' 'K01-2675' 'K01-2687' 'K01-2693'\n",
      " 'K01-2698' 'K01-2711' 'K01-2722' 'K01-2734' 'K01-2741' 'K01-2740'\n",
      " 'K01-2746' 'K01-2764' 'K01-2766' 'K01-2768' 'K01-2785' 'K01-2788'\n",
      " 'K01-2790' 'K01-2796' 'K01-2797' 'K01-2803' 'K01-2805' 'K01-2818'\n",
      " 'K01-2819' 'K01-2822' 'K01-2823' 'K01-2824' 'K01-2837' 'K01-2840'\n",
      " 'K01-2846' 'K01-2851' 'K01-2852' 'K01-2853' 'K01-2854' 'K01-2865'\n",
      " 'K01-2870' 'K01-2875' 'K01-2877' 'K01-2880' 'K01-2885' 'K01-2891'\n",
      " 'K01-2905' 'K01-2912' 'K01-2919' 'K01-2922' 'K01-2925' 'K01-2928'\n",
      " 'K01-2958' 'K01-2972' 'K01-2980' 'K01-2989' 'K01-2996' 'K01-3007'\n",
      " 'K01-3014' 'K01-3024' 'K01-3025' 'K01-3036' 'K01-3038' 'K01-3037'\n",
      " 'K01-3066' 'K01-3074' 'K01-3087' 'K01-3113' 'K01-3123' 'K01-3139'\n",
      " 'K01-3146' 'K01-3149' 'K01-3157' 'K01-3173' 'K01-3172' 'K01-3176'\n",
      " 'K01-3178' 'K01-3187' 'K01-3195' 'K01-3200' 'K01-3203' 'K01-3207'\n",
      " 'K01-3208' 'K01-3215' 'K01-3222' 'K01-3239' 'K01-3248' 'K01-3246'\n",
      " 'K01-3254' 'K01-3257' 'K01-3258' 'K01-3266' 'K01-3279' 'K01-3280'\n",
      " 'K01-3286' 'K01-3288' 'K01-3299' 'K01-3301' 'K01-3310' 'K01-3317'\n",
      " 'K01-3319' 'K01-3321' 'K01-3327' 'K01-3331' 'K01-3332' 'K01-3334'\n",
      " 'K01-3335' 'K01-3338' 'K01-3361' 'K01-3363' 'K01-3371' 'K01-3373'\n",
      " 'K01-3376' 'K01-3381' 'K01-3384' 'K01-3387' 'K01-3393' 'K01-3395'\n",
      " 'K01-3406' 'K01-3408' 'K01-3409' 'K01-3410' 'K01-3411' 'K01-3442'\n",
      " 'K01-3476' 'K01-3494' 'K01-3497' 'K01-3504' 'K01-3516' 'K01-3527'\n",
      " 'K01-3535' 'K01-3544' 'K01-3551' 'K01-3552' 'K01-3565' 'K01-3578'\n",
      " 'K01-3583' 'K01-3586' 'K01-3604' 'K01-3606' 'K01-3605' 'K01-3609'\n",
      " 'K01-3614' 'K01-3624' 'K01-3630' 'K01-3641' 'K01-3645' 'K01-3658'\n",
      " 'K01-3668' 'K01-3678' 'K01-3685' 'K01-3701' 'K01-3703' 'K01-3706'\n",
      " 'K01-3719' 'K01-3722' 'K01-3734' 'K01-3736' 'K01-3738' 'K01-3745'\n",
      " 'K01-3748' 'K01-3749' 'K01-3758' 'K01-3773' 'K01-3788' 'K01-3795'\n",
      " 'K01-3806' 'K01-3807' 'K01-3811' 'K01-3822' 'K01-3832' 'K01-3863'\n",
      " 'K01-3870' 'K01-3895' 'K01-3902' 'K01-3909' 'K01-3914' 'K01-3917'\n",
      " 'K01-3928' 'K01-3930' 'K01-3941' 'K01-3943' 'K01-3947' 'K01-3950'\n",
      " 'K01-3956' 'K01-3964' 'K01-3967' 'K01-3969' 'K01-3970' 'K01-3976'\n",
      " 'K01-3979' 'K01-3985' 'K01-3989' 'K01-3997' 'K01-4003' 'K01-4006'\n",
      " 'K01-4028' 'K01-4029' 'K01-4030' 'K01-4037' 'K01-4039' 'K01-4041'\n",
      " 'K01-4044' 'K01-4046' 'K01-4049' 'K01-4054' 'K01-4055' 'K01-4056'\n",
      " 'K01-4057' 'K01-4058' 'K01-4060' 'K01-4079' 'K01-4086' 'K01-4090'\n",
      " 'K01-4099' 'K01-4103' 'K01-4109' 'K01-4114' 'K01-4118' 'K01-4120'\n",
      " 'K01-4128' 'K01-4135' 'K01-4133' 'K01-4136' 'K01-4147' 'K01-4150'\n",
      " 'K01-4164' 'K01-4167' 'K01-4168' 'K01-4185' 'K01-4191' 'K01-4212'\n",
      " 'K01-4216' 'K01-4221' 'K01-4226' 'K01-4235' 'K01-4237' 'K01-4238'\n",
      " 'K01-4241' 'K01-4244' 'K01-4251' 'K01-4253' 'K01-4256' 'K01-4262'\n",
      " 'K01-4280' 'K01-4281' 'K01-4285' 'K01-4292' 'K01-4297' 'K01-4303'\n",
      " 'K01-4316' 'K01-4328' 'K01-4347' 'K01-4359' 'K01-4364' 'K01-4372'\n",
      " 'K01-4380' 'K01-4385' 'K01-4390' 'K01-4393' 'K01-4394' 'K01-4399'\n",
      " 'K01-4414' 'K01-4419' 'K01-4423' 'K01-4437' 'K01-4438' 'K01-4442'\n",
      " 'K01-4453' 'K01-4472' 'K01-4488' 'K01-4489' 'K01-4493' 'K01-4498'\n",
      " 'K01-4503' 'K01-4505' 'K01-4508' 'K01-4517' 'K01-4525' 'K01-4567'\n",
      " 'K01-4573' 'K01-4579' 'K01-4589' 'K01-4591' 'K01-4604' 'K01-4614'\n",
      " 'K01-4627' 'K01-4647' 'K01-4672' 'K01-4674' 'K01-4684' 'K01-4693'\n",
      " 'K01-4701' 'K01-4719' 'K01-4747' 'K01-4748' 'K01-4762' 'K01-4776'\n",
      " 'K01-4777' 'K01-4789' 'K01-4792' 'K01-4798' 'K01-4801' 'K01-4813'\n",
      " 'K01-4819' 'K01-4824' 'K01-4833' 'K01-4849' 'K01-4852' 'K01-4853'\n",
      " 'K01-4858' 'K01-4867' 'K01-4872' 'K01-4874' 'K01-4883' 'K01-4891'\n",
      " 'K01-4894' 'K01-4898' 'K01-4916' 'K01-4940' 'K01-4956' 'K01-4966'\n",
      " 'K01-4979' 'K01-4983' 'K01-4997' 'K01-5004' 'K01-5011' 'K01-5017'\n",
      " 'K01-5027' 'K01-5033' 'K01-5044' 'K01-5050' 'K01-5060' 'K01-5064'\n",
      " 'K01-5081' 'K01-5087' 'K01-5099' 'K01-5108' 'K01-5114' 'K01-5115'\n",
      " 'K01-5133' 'K01-5138' 'K01-5142' 'K01-5160' 'K01-5161' 'K01-5162'\n",
      " 'K01-5163' 'K01-5167' 'K01-5171' 'K01-5187' 'K01-5190' 'K01-5195'\n",
      " 'K01-5196' 'K01-5202' 'K01-5204' 'K01-5205' 'K01-5208' 'K01-5216'\n",
      " 'K01-5218' 'K01-5230' 'K01-5232' 'K01-5234' 'K01-5240' 'K01-5248'\n",
      " 'K01-5266' 'K01-5268' 'K01-5287' 'K01-5302' 'K01-5307' 'K01-5310'\n",
      " 'K01-5311' 'K01-5315' 'K01-5322' 'K01-5324' 'K01-5335' 'K01-5336'\n",
      " 'K01-5342' 'K01-5353' 'K01-5362' 'K01-5369' 'K01-5371' 'K01-5373'\n",
      " 'K01-5388' 'K01-5392' 'K01-5399' 'K01-5401' 'K01-5406' 'K01-5414'\n",
      " 'K01-5424' 'K01-5428' 'K01-5433' 'K01-5432' 'K01-5440' 'K01-5446'\n",
      " 'K01-5459' 'K01-5483' 'K01-5493' 'K01-5494' 'K01-5510' 'K01-5530'\n",
      " 'K01-5543' 'K01-5557' 'K01-5559' 'K01-5572' 'K01-5573' 'K01-5585'\n",
      " 'K01-5597' 'K01-5604' 'K01-5606' 'K01-5616' 'K01-5632' 'K01-5641'\n",
      " 'K01-5643' 'K01-5646' 'K01-5682' 'K01-5684' 'K01-5688' 'K01-5689'\n",
      " 'K01-5694' 'K01-5695' 'K01-5706' 'K01-5709' 'K01-5718' 'K01-5747'\n",
      " 'K01-5761' 'K01-5770' 'K01-5771' 'K01-5772' 'K01-5797' 'K01-5808'\n",
      " 'K01-5810' 'K01-5819' 'K01-5823' 'K01-5864' 'K01-5868' 'K01-5879'\n",
      " 'K01-5878' 'K01-5891' 'K01-5896' 'K01-5897' 'K01-5938' 'K01-5942'\n",
      " 'K01-5948' 'K01-5952' 'K01-6002' 'K01-6011' 'K01-6014' 'K01-6021'\n",
      " 'K01-6023' 'K01-6036' 'K01-6052' 'K01-6057' 'K01-6059' 'K01-6066'\n",
      " 'K01-6069' 'K01-6071' 'K01-6080' 'K01-6085' 'K01-6111' 'K01-6113'\n",
      " 'K01-6130' 'K01-6131' 'K01-6132' 'K01-6137' 'K01-6157' 'K01-6164'\n",
      " 'K01-6169' 'K01-6178' 'K01-6181' 'K01-6182' 'K01-6184' 'K01-6192'\n",
      " 'K01-6193' 'K01-6198' 'K01-6199' 'K01-6202' 'K01-6203' 'K01-6204'\n",
      " 'K01-6211' 'K01-6212' 'K01-6220' 'K01-6224' 'K01-6228' 'K01-6229'\n",
      " 'K01-6232' 'K01-6240' 'K01-6244' 'K01-6252' 'K01-6270' 'K01-6297'\n",
      " 'K01-6306' 'K01-6310' 'K01-6318' 'K01-6322' 'K01-6327' 'K01-6331'\n",
      " 'K01-6341' 'K01-6345' 'K01-6349' 'K01-6358' 'K01-6360' 'K01-6372'\n",
      " 'K01-6379' 'K01-6384' 'K01-6390' 'K01-6391' 'K01-6392' 'K01-6397'\n",
      " 'K01-6407' 'K01-6412' 'K01-6416' 'K01-6418' 'K01-6420' 'K01-6432'\n",
      " 'K01-6433' 'K01-6435' 'K01-6444' 'K01-6451' 'K01-6485' 'K01-6488'\n",
      " 'K01-6498' 'K01-6500' 'K01-6504' 'K01-6505' 'K01-6519' 'K01-6526'\n",
      " 'K01-6538' 'K01-6539' 'K01-6547' 'K01-6548' 'K01-6557' 'K01-6564'\n",
      " 'K01-6565' 'K01-6574' 'K01-6584']\n",
      "874\n"
     ]
    },
    {
     "name": "stderr",
     "output_type": "stream",
     "text": [
      "C:\\Users\\ronald.sumners\\AppData\\Local\\Temp\\ipykernel_6124\\3959399956.py:5: DtypeWarning: Columns (20) have mixed types. Specify dtype option on import or set low_memory=False.\n",
      "  starData = pd.read_csv('./KeplerSept4/K01Extract.csv')\n"
     ]
    },
    {
     "name": "stdout",
     "output_type": "stream",
     "text": [
      "(180912, 43)\n",
      "(138960, 43)\n",
      "done\n"
     ]
    }
   ],
   "source": [
    "exclusions = pd.read_csv('FilteringExclusions.csv')['Names'].to_numpy()\n",
    "print(exclusions)\n",
    "print(len(exclusions))\n",
    "\n",
    "starData = pd.read_csv('./KeplerSept4/K01Extract.csv')\n",
    "print(starData.shape)\n",
    "starData = starData[~starData['Name'].isin(exclusions)]\n",
    "print(starData.shape)\n",
    "\n",
    "starData.to_csv('starDataTest.csv', index=False)\n",
    "print('done')"
   ]
  },
  {
   "cell_type": "code",
   "execution_count": null,
   "id": "25ae5fae",
   "metadata": {},
   "outputs": [],
   "source": []
  }
 ],
 "metadata": {
  "kernelspec": {
   "display_name": "Python 3 (ipykernel)",
   "language": "python",
   "name": "python3"
  },
  "language_info": {
   "codemirror_mode": {
    "name": "ipython",
    "version": 3
   },
   "file_extension": ".py",
   "mimetype": "text/x-python",
   "name": "python",
   "nbconvert_exporter": "python",
   "pygments_lexer": "ipython3",
   "version": "3.9.13"
  }
 },
 "nbformat": 4,
 "nbformat_minor": 5
}
